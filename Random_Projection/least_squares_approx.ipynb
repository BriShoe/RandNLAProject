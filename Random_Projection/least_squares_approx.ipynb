{
 "cells": [
  {
   "cell_type": "code",
   "execution_count": 1,
   "metadata": {},
   "outputs": [
    {
     "name": "stdout",
     "output_type": "stream",
     "text": [
      "Error in x:  6.721607180752939e-14\n",
      "Error in Ax:  5.8055197785666565e-12\n",
      "Time for small:  197.98812890052795\n",
      "Time for full:  0.03199172019958496\n"
     ]
    }
   ],
   "source": [
    "import numpy as np\n",
    "import scipy\n",
    "import time\n",
    "\n",
    "np.random.seed(4701)\n",
    "\n",
    "# Generate some overdetermined system\n",
    "m = 2 ** 16\n",
    "r = 100\n",
    "n = 50\n",
    "A = np.random.randn(m, n)\n",
    "x = np.random.randn(n)\n",
    "b = A @ x\n",
    "\n",
    "def solve_ls(A, b):\n",
    "    return np.linalg.solve(A.T @ A, A.T @ b)\n",
    "\n",
    "# Do random projection\n",
    "# Time this\n",
    "start = time.time()\n",
    "# Hadamard matrix\n",
    "H_m = scipy.linalg.hadamard(m) / np.sqrt(m)\n",
    "D = np.diag(np.random.choice([-1, 1], m))\n",
    "# Sample uniformly from [m]\n",
    "S_choices = np.random.choice(m, 100, replace=True)\n",
    "# Make S one-hot\n",
    "S = np.zeros((r, m))\n",
    "S[np.arange(r), S_choices] = 1\n",
    "\n",
    "A_hat = S @ H_m @ D @ A\n",
    "b_hat = S @ H_m @ D @ b\n",
    "\n",
    "# Solve induced problem\n",
    "x_hat = solve_ls(A_hat, b_hat)\n",
    "end = time.time()\n",
    "time_for_small = end - start\n",
    "\n",
    "start = time.time()\n",
    "# Compare to original solution\n",
    "x_hat_original =  solve_ls(A, b)\n",
    "end = time.time()\n",
    "time_for_full = end - start\n",
    "\n",
    "# Print error\n",
    "print(\"Error in x: \", np.linalg.norm(x_hat - x_hat_original))\n",
    "print(\"Error in Ax: \", np.linalg.norm(b - A @ x_hat))\n",
    "\n",
    "print(\"Time for small: \", time_for_small)\n",
    "print(\"Time for full: \", time_for_full)"
   ]
  }
 ],
 "metadata": {
  "kernelspec": {
   "display_name": "base",
   "language": "python",
   "name": "python3"
  },
  "language_info": {
   "codemirror_mode": {
    "name": "ipython",
    "version": 3
   },
   "file_extension": ".py",
   "mimetype": "text/x-python",
   "name": "python",
   "nbconvert_exporter": "python",
   "pygments_lexer": "ipython3",
   "version": "3.11.7"
  }
 },
 "nbformat": 4,
 "nbformat_minor": 2
}
