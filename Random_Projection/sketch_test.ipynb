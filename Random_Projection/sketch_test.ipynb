{
 "cells": [
  {
   "cell_type": "code",
   "execution_count": 5,
   "metadata": {},
   "outputs": [
    {
     "name": "stdout",
     "output_type": "stream",
     "text": [
      "Least-squares x: [[-1.47538697]\n",
      " [ 1.46156437]\n",
      " [ 0.48695376]\n",
      " [ 0.55257015]\n",
      " [ 0.17967079]\n",
      " [-0.99599795]\n",
      " [ 0.39280315]\n",
      " [ 0.59558815]\n",
      " [-0.92908454]\n",
      " [-0.48645751]]\n",
      "Time: 0.02045297622680664\n",
      "x: [[-1.47544286]\n",
      " [ 1.4616741 ]\n",
      " [ 0.48617045]\n",
      " [ 0.5523195 ]\n",
      " [ 0.17985582]\n",
      " [-0.99620091]\n",
      " [ 0.39327836]\n",
      " [ 0.59564065]\n",
      " [-0.92922152]\n",
      " [-0.4864667 ]]\n"
     ]
    }
   ],
   "source": [
    "import numpy as np\n",
    "import scipy\n",
    "from sketch import project_solve\n",
    "import time\n",
    "\n",
    "m, n = 100000, 10\n",
    "A, x = np.random.randn(m, n), np.random.randn(n, 1)\n",
    "b = A @ x + 0.1 * np.random.randn(m, 1)\n",
    "\n",
    "start1 = time.time()\n",
    "x_lstsq = np.linalg.pinv(A) @ b\n",
    "end1 = time.time()\n",
    "#start2 = time.time()\n",
    "#x_approx = project_solve(A, b)\n",
    "#end2 = time.time()\n",
    "print(\"Least-squares x:\", x_lstsq)\n",
    "print(\"Time:\", end1 - start1)\n",
    "#print(\"Approximate Least-squares x:\", x_approx)\n",
    "#print(\"Time:\", end2 - start2)\n",
    "print(\"x:\", x)"
   ]
  }
 ],
 "metadata": {
  "kernelspec": {
   "display_name": "base",
   "language": "python",
   "name": "python3"
  },
  "language_info": {
   "codemirror_mode": {
    "name": "ipython",
    "version": 3
   },
   "file_extension": ".py",
   "mimetype": "text/x-python",
   "name": "python",
   "nbconvert_exporter": "python",
   "pygments_lexer": "ipython3",
   "version": "3.11.7"
  }
 },
 "nbformat": 4,
 "nbformat_minor": 2
}
