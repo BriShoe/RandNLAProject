{
 "cells": [
  {
   "cell_type": "code",
   "execution_count": 1,
   "metadata": {},
   "outputs": [],
   "source": [
    "import numpy as np\n",
    "import pandas as pd\n",
    "import matplotlib.pyplot as plt\n",
    "from Low_Rank_Approximation.approximate_multiplication import approx_SVD\n",
    "from sklearn.preprocessing import StandardScaler\n",
    "from sklearn.decomposition import PCA\n",
    "from itertools import pairwise"
   ]
  },
  {
   "cell_type": "code",
   "execution_count": 97,
   "metadata": {},
   "outputs": [],
   "source": [
    "df = pd.read_csv(\"Data/blogfeedback/blogData_train.csv\", header=None)\n",
    "# Shuffle\n",
    "test = round(.7 * df.shape[0])\n",
    "y = df.iloc[:,280]\n",
    "X = df.iloc[:,:280]\n",
    "y_train = df.iloc[:test,280]\n",
    "X_train = df.iloc[:test,:280]\n",
    "y_test = df.iloc[test:,280]\n",
    "X_test = df.iloc[test:, :280]"
   ]
  },
  {
   "cell_type": "code",
   "execution_count": 98,
   "metadata": {},
   "outputs": [
    {
     "name": "stderr",
     "output_type": "stream",
     "text": [
      "100%|██████████| 1000/1000 [00:01<00:00, 534.34it/s]"
     ]
    },
    {
     "name": "stdout",
     "output_type": "stream",
     "text": [
      "0.5670518929473778\n"
     ]
    },
    {
     "name": "stderr",
     "output_type": "stream",
     "text": [
      "\n"
     ]
    }
   ],
   "source": [
    "import torch\n",
    "import torch.nn as nn\n",
    "from torch.utils.data import DataLoader, TensorDataset\n",
    "\n",
    "train_boost = round(.4 * X_train.shape[0])\n",
    "X_train_boost = X_train.iloc[:train_boost,:]\n",
    "y_train_boost = y_train.iloc[:train_boost]\n",
    "\n",
    "class SimpleNN(nn.Module):\n",
    "    def __init__(self, input_size):\n",
    "        super(SimpleNN, self).__init__()\n",
    "        self.layer1 = nn.Linear(input_size, 128)\n",
    "        self.relu = nn.ReLU()\n",
    "        self.layer2 = nn.Linear(128, 32)\n",
    "        self.output_layer = nn.Linear(32, 1)\n",
    "    \n",
    "    def forward(self, x):\n",
    "        x = self.relu(self.layer1(x))\n",
    "        x = self.relu(self.layer2(x))\n",
    "        return self.output_layer(x)\n",
    "    \n",
    "    def extract_features(self, x):\n",
    "        x = self.relu(self.layer1(x))\n",
    "        x = self.relu(self.layer2(x))\n",
    "        return x\n",
    "\n",
    "model = SimpleNN(input_size=X_train_boost.shape[1])\n",
    "criterion = nn.MSELoss()\n",
    "optimizer = torch.optim.Adam(model.parameters())\n",
    "\n",
    "# Train your model\n",
    "import tqdm\n",
    "from sklearn.metrics import r2_score\n",
    "batch_size = 64\n",
    "\n",
    "for epoch in tqdm.tqdm(range(1000)):\n",
    "    # Sample a random minibatch from your dataset\n",
    "    indices = np.random.choice(len(X_train_boost), batch_size, replace=False).tolist()\n",
    "    inputs = torch.tensor(np.array(X_train_boost.loc[indices]), dtype=torch.float32)\n",
    "    labels = torch.tensor(np.array(y_train_boost.loc[indices]), dtype=torch.float32).view(-1, 1)\n",
    "    optimizer.zero_grad()\n",
    "    outputs = model(inputs)\n",
    "    loss = criterion(outputs, labels)\n",
    "    loss.backward()\n",
    "    optimizer.step()\n",
    "\n",
    "# Evaluate r2 on full dataset\n",
    "print(r2_score(y_train_boost, model(torch.tensor(np.array(X_train_boost), dtype=torch.float32)).detach().numpy()))\n"
   ]
  },
  {
   "cell_type": "code",
   "execution_count": 99,
   "metadata": {},
   "outputs": [
    {
     "name": "stdout",
     "output_type": "stream",
     "text": [
      "(36678, 312) (15719, 312)\n"
     ]
    }
   ],
   "source": [
    "# Using deep learning model, extract the features\n",
    "extracted_features = []\n",
    "model.eval()\n",
    "with torch.no_grad():\n",
    "    inputs = torch.tensor(np.array(X_train), dtype=torch.float32)\n",
    "    X_train_engineered = model.extract_features(inputs)\n",
    "    inputs = torch.tensor(np.array(X_test), dtype=torch.float32)\n",
    "    X_test_engineered = model.extract_features(inputs)\n",
    "\n",
    "# Stack original features with engineered features\n",
    "X_train_engineered = np.hstack([np.array(X_train), X_train_engineered.numpy()])\n",
    "X_test_engineered = np.hstack([np.array(X_test), X_test_engineered.numpy()])\n",
    "print(X_train_engineered.shape, X_test_engineered.shape)"
   ]
  },
  {
   "cell_type": "code",
   "execution_count": 100,
   "metadata": {},
   "outputs": [
    {
     "name": "stdout",
     "output_type": "stream",
     "text": [
      "0.3223127917410805\n"
     ]
    }
   ],
   "source": [
    "import xgboost as xgb\n",
    "from sklearn.linear_model import LinearRegression\n",
    "\n",
    "train_boost = round(.2 * X_train_engineered.shape[0])\n",
    "X_train_boost = X_train_engineered[:train_boost,:]\n",
    "y_train_boost = y[:train_boost]\n",
    "\n",
    "# Step 1: Fit an XGBoost model\n",
    "xgb_model = xgb.XGBRegressor(objective=\"reg:squarederror\")\n",
    "xgb_model.fit(X_train, y_train)\n",
    "\n",
    "# Get feature importances and select the last N features\n",
    "feature_importances = pd.Series(xgb_model.feature_importances_, index=X_train.columns)\n",
    "N = 200  # Number of features to select\n",
    "last_n_features = feature_importances.nsmallest(N).index.tolist()\n",
    "\n",
    "# Step 2: Run Linear Regression with last N features\n",
    "X_train_engineered = X_train_engineered[:, last_n_features]\n",
    "X_test_engineered = X_test_engineered[:, last_n_features]\n",
    "\n",
    "lr_model = LinearRegression()\n",
    "lr_model.fit(X_train_engineered, y_train)\n",
    "print(r2_score(y_train, lr_model.predict(X_train_engineered)))"
   ]
  },
  {
   "cell_type": "code",
   "execution_count": 102,
   "metadata": {},
   "outputs": [
    {
     "data": {
      "text/plain": [
       "1.2058247747517658e+24"
      ]
     },
     "execution_count": 102,
     "metadata": {},
     "output_type": "execute_result"
    }
   ],
   "source": [
    "np.linalg.cond(X_train_engineered.T @ X_train_engineered)"
   ]
  },
  {
   "cell_type": "code",
   "execution_count": 103,
   "metadata": {},
   "outputs": [],
   "source": [
    "# Scale our engineered features\n",
    "scaler = StandardScaler()\n",
    "scaled_X_train_engineered = scaler.fit_transform(X_train_engineered)\n",
    "scaled_X_test_engineered = scaler.transform(X_test_engineered)"
   ]
  },
  {
   "cell_type": "code",
   "execution_count": 104,
   "metadata": {},
   "outputs": [
    {
     "data": {
      "image/png": "[encoded data removed]",
      "text/plain": [
       "<Figure size 640x480 with 1 Axes>"
      ]
     },
     "metadata": {},
     "output_type": "display_data"
    },
    {
     "data": {
      "image/png": "[encoded data removed]",
      "text/plain": [
       "<Figure size 640x480 with 1 Axes>"
      ]
     },
     "metadata": {},
     "output_type": "display_data"
    }
   ],
   "source": [
    "pca = PCA(n_components=15)\n",
    "pca_fit = pca.fit(scaled_X_train_engineered)\n",
    "PC_values = np.arange(pca.n_components_) + 1\n",
    "plt.plot(PC_values, pca.explained_variance_ratio_, 'o-', linewidth=2, color='blue')\n",
    "plt.title('Scree Plot')\n",
    "plt.xlabel('Principal Component')\n",
    "plt.ylabel('Additional Variance Explained')\n",
    "# Remove ticks on y axis\n",
    "plt.yticks([])\n",
    "plt.show()\n",
    "\n",
    "V = approx_SVD(scaled_X_train_engineered, 400)\n",
    "projection = np.zeros((200, 200))\n",
    "sum_variances = []\n",
    "for i in range(len(V)):\n",
    "    projection += np.outer(V[i], V[i])\n",
    "    sum_variances.append(np.linalg.norm(scaled_X_train_engineered @ projection))\n",
    "\n",
    "variances = [sum_variances[0]] + [y - x for x, y in pairwise(sum_variances)]\n",
    "variances.sort(reverse=True)\n",
    "\n",
    "variances /= np.linalg.norm(scaled_X_train_engineered)\n",
    "plt.plot(PC_values, variances[:pca.n_components_], 'o-', linewidth=2, color='blue')\n",
    "plt.title('Scree Plot')\n",
    "plt.xlabel('Approximated Principal Component (from Sampling)')\n",
    "plt.ylabel('Additional Variance Explained')\n",
    "plt.yticks([])\n",
    "plt.show()"
   ]
  },
  {
   "cell_type": "code",
   "execution_count": 105,
   "metadata": {},
   "outputs": [],
   "source": [
    "import numpy as np\n",
    "import numba\n",
    "import time\n",
    "import scipy\n",
    "\n",
    "# Helper functions for Least Squares Approximation: Random Projection and Sketching\n",
    "@numba.jit(nopython=True)\n",
    "def hamming_weight_array(x):\n",
    "    count_array = np.zeros_like(x, dtype=np.int8)\n",
    "    for index in np.ndindex(x.shape):\n",
    "        count = 0\n",
    "        value = x[index]\n",
    "        while value:\n",
    "            count += value & 1\n",
    "            value >>= 1\n",
    "        count_array[index] = count\n",
    "    return count_array\n",
    "\n",
    "\n",
    "@numba.jit(nopython=True)\n",
    "def vectorized_hadamard_rows_with_D(row_indices, n):\n",
    "    output_rows = np.empty((len(row_indices), n), dtype=np.int8)\n",
    "    # D = 2 * np.random.randint(0, 2, size=n) - 1\n",
    "    indices_j = np.arange(n)\n",
    "    # Compute the Hadamard matrix rows for the given indices\n",
    "    for count, i in enumerate(row_indices):\n",
    "        # Compute bitwise AND for every pair i and all j indices\n",
    "        binary_dot_products = np.bitwise_and(i, indices_j)\n",
    "        # Compute the Hadamard matrix row entries, then multiply -1 with 0.5 probability\n",
    "        output_rows[count] = hamming_weight_array(binary_dot_products) * (2 * np.random.randint(0, 2, size=1) - 1)\n",
    "    return (-1) ** output_rows\n",
    "\n",
    "\n",
    "# Helper functions for Least Squares Approximation: Random Sampling\n",
    "def generate_random_projection(r_1, r_2):\n",
    "    # Generates the randomized unstructured projection (P in our paper)\n",
    "    return np.random.choice([-np.sqrt(3/r_1), np.sqrt(3/r_1), 0], size=(r_1, r_2), p=[1/6, 1/6, 2/3])\n",
    "\n",
    "\n",
    "@numba.jit(nopython=True)\n",
    "def sample_indices(row_indices, n):\n",
    "    sampled_indices = np.zeros(n, dtype=np.int8)\n",
    "    for i in range(n):\n",
    "        random_value = np.random.random()\n",
    "        cum_sum = 0.0\n",
    "        for j, weight in enumerate(row_indices):\n",
    "            cum_sum += weight\n",
    "            if random_value < cum_sum:\n",
    "                sampled_indices[i] = j\n",
    "                break \n",
    "    return sampled_indices\n",
    "\n",
    "\n",
    "def sketch_and_solve(A, b, r, direct=True, precondition_with_QR=False, **kwargs):\n",
    "    \"\"\"\n",
    "    Parameters:\n",
    "        A: matrix of size m x n\n",
    "        b: vector of size m (we want to solve Ax = b)\n",
    "        r: sketch size (dimension we are projecting to)\n",
    "        direct: whether to use a direct solver or an iterative solver to solve the least squares problem\n",
    "        precondition_with_QR: whether to precondition the least squares problem with the sketch matrix (for MINRES)\n",
    "    \n",
    "    Returns:\n",
    "        solution to the least squares problem\n",
    "    \"\"\"\n",
    "    m = A.shape[0]\n",
    "    rand_rows = np.random.choice(m, r, replace=True)\n",
    "    SH_mD = vectorized_hadamard_rows_with_D(rand_rows, m)\n",
    "    # Multiply the rows by the Hadamard matrix\n",
    "    if direct:\n",
    "        return scipy.linalg.lstsq(SH_mD @ A, SH_mD @ b)[0]\n",
    "    else:\n",
    "        if precondition_with_QR:\n",
    "            _, R = np.linalg.qr(SH_mD @ A)\n",
    "            minres_sol = scipy.sparse.linalg.minres((SH_mD @ A).T @ (SH_mD @ A) @ R, (SH_mD @ A).T @ SH_mD @ b, **kwargs)[0]\n",
    "            return np.linalg.solve(R, minres_sol)\n",
    "        return scipy.sparse.linalg.minres((SH_mD @ A).T @ (SH_mD @ A), (SH_mD @ A).T @ SH_mD @ b, **kwargs)[0]\n",
    "\n",
    "\n",
    "def sample_and_solve(A, b, r_1, r_2, k, direct=True, precondition_with_QR=False, **kwargs):\n",
    "    \"\"\"\n",
    "    Parameters:\n",
    "        A: matrix of size m x n\n",
    "        b: vector of size m (we want to solve Ax = b)\n",
    "        r_1: sketch size\n",
    "        r_2: sketch size\n",
    "        k: number of samples to take for our sketch\n",
    "        direct: whether to use a direct solver or an iterative solver to solve the least squares problem\n",
    "        precondition_with_QR: whether to precondition the least squares problem with the sketch matrix (for MINRES)\n",
    "    \n",
    "    Returns:\n",
    "        solution to the least squares problem\n",
    "    \"\"\"\n",
    "    m = A.shape[0]\n",
    "    rand_rows = np.random.choice(m, r_1, replace=True)\n",
    "    P = generate_random_projection(r_1, r_2)\n",
    "    SH_mD = vectorized_hadamard_rows_with_D(rand_rows, m)\n",
    "    approximate_lev = np.sum((A @ np.linalg.pinv(SH_mD @ A) @ P) ** 2, axis=1)\n",
    "    approximate_lev /= np.sum(approximate_lev)\n",
    "    sampled_indices = sample_indices(approximate_lev, k)\n",
    "    approximate_lev *= k\n",
    "    sampled_sketch_A = A[sampled_indices] * approximate_lev[sampled_indices, None]\n",
    "    sampled_sketch_b = b[sampled_indices] * approximate_lev[sampled_indices]\n",
    "    if direct:\n",
    "        return scipy.linalg.lstsq(sampled_sketch_A, sampled_sketch_b)[0]\n",
    "    else:\n",
    "        if precondition_with_QR:\n",
    "            _, R = np.linalg.qr(sampled_sketch_A)\n",
    "            minres_sol = scipy.sparse.linalg.minres(sampled_sketch_A.T @ sampled_sketch_A @ R, sampled_sketch_A.T @ sampled_sketch_b, **kwargs)[0]\n",
    "            return np.linalg.solve(R, minres_sol)\n",
    "        return scipy.sparse.linalg.minres(sampled_sketch_A.T @ sampled_sketch_A, sampled_sketch_A.T @ sampled_sketch_b, **kwargs)[0]"
   ]
  },
  {
   "cell_type": "code",
   "execution_count": null,
   "metadata": {},
   "outputs": [],
   "source": [
    "from sklearn.metrics import mean_squared_error\n",
    "from sklearn.linear_model import Ridge\n",
    "\n",
    "pca = PCA(n_components=10)\n",
    "pca_fit = pca.fit(scaled_X_train_engineered)\n",
    "X_train_pca = pca_fit.transform(np.array(scaled_X_train_engineered))\n",
    "X_test_pca = pca_fit.transform(scaled_X_test_engineered)\n",
    "\n",
    "# Add row of ones for intercept\n",
    "X_train_pca_with_intercept = np.hstack((np.ones((X_train_pca.shape[0], 1)), X_train_pca))\n",
    "X_test_pca_with_intercept = np.hstack((np.ones((X_test_pca.shape[0], 1)), X_test_pca))\n",
    "X_train_engineered_with_intercept = np.hstack((np.ones((X_train_engineered.shape[0], 1)), X_train_engineered))\n",
    "X_test_engineered_with_intercept = np.hstack((np.ones((X_test_engineered.shape[0], 1)), X_test_engineered))\n",
    "\n",
    "beta1 = sketch_and_solve(np.array(X_train_pca_with_intercept), np.array(y_train), 5000)\n",
    "print(r2_score(y_train, X_train_pca_with_intercept @ beta1))\n",
    "beta2 = np.linalg.lstsq(X_train_engineered_with_intercept, y_train)[0]\n",
    "print(r2_score(y_train, X_train_engineered_with_intercept @ beta2))\n",
    "# beta3 = Ridge(alpha=0.25).fit(X_train, y_train).coef_\n",
    "\n",
    "pred1 = X_test_pca_with_intercept @ beta1\n",
    "pred2 = X_test_engineered_with_intercept @ beta2\n",
    "# pred3 = X_test @ beta3\n",
    "\n",
    "print(r2_score(y_test, pred1))\n",
    "print(mean_squared_error(y_test, pred1))\n",
    "print(r2_score(y_test, pred2))\n",
    "print(mean_squared_error(y_test, pred2))\n",
    "# print(mean_squared_error(y_test, pred3))"
   ]
  },
  {
   "cell_type": "code",
   "execution_count": null,
   "metadata": {},
   "outputs": [],
   "source": []
  }
 ],
 "metadata": {
  "kernelspec": {
   "display_name": "ee364b",
   "language": "python",
   "name": "python3"
  },
  "language_info": {
   "codemirror_mode": {
    "name": "ipython",
    "version": 3
   },
   "file_extension": ".py",
   "mimetype": "text/x-python",
   "name": "python",
   "nbconvert_exporter": "python",
   "pygments_lexer": "ipython3",
   "version": "3.11.2"
  }
 },
 "nbformat": 4,
 "nbformat_minor": 2
}
